{
  "nbformat": 4,
  "nbformat_minor": 0,
  "metadata": {
    "colab": {
      "name": "Battle_of_Neighborhoods_Wk4.ipynb",
      "provenance": [],
      "include_colab_link": true
    },
    "kernelspec": {
      "name": "python3",
      "display_name": "Python 3"
    }
  },
  "cells": [
    {
      "cell_type": "markdown",
      "metadata": {
        "id": "view-in-github",
        "colab_type": "text"
      },
      "source": [
        "<a href=\"https://colab.research.google.com/github/aaronverive/Coursera_Capstone/blob/master/Battle_of_Neighborhoods_Wk4.ipynb\" target=\"_parent\"><img src=\"https://colab.research.google.com/assets/colab-badge.svg\" alt=\"Open In Colab\"/></a>"
      ]
    },
    {
      "cell_type": "code",
      "metadata": {
        "id": "pIawwuF7j_y9",
        "colab_type": "code",
        "colab": {}
      },
      "source": [
        ""
      ],
      "execution_count": 0,
      "outputs": []
    },
    {
      "cell_type": "markdown",
      "metadata": {
        "id": "9-EtT3QXkCMs",
        "colab_type": "text"
      },
      "source": [
        "## **Capstone Project - The Battle of Neighborhood**"
      ]
    },
    {
      "cell_type": "markdown",
      "metadata": {
        "id": "BmUMWPOIkJdJ",
        "colab_type": "text"
      },
      "source": [
        "### **Introduction**"
      ]
    },
    {
      "cell_type": "markdown",
      "metadata": {
        "id": "Z6ljcsAakNCB",
        "colab_type": "text"
      },
      "source": [
        "There's a lot of excellent food places in Lafayette, trying to figure out where to eat can be a tough choice. Which restaurants nearby would be the best to eat at?"
      ]
    },
    {
      "cell_type": "markdown",
      "metadata": {
        "id": "jacupbEmkcYr",
        "colab_type": "text"
      },
      "source": [
        "## **Business Challenge**"
      ]
    },
    {
      "cell_type": "markdown",
      "metadata": {
        "id": "gy0OqHrakfVE",
        "colab_type": "text"
      },
      "source": [
        "Employing Foursquare API, we can cluster similar restuarants together. Based on this output, we can decide which restaurants will be best to eat at."
      ]
    },
    {
      "cell_type": "markdown",
      "metadata": {
        "id": "arDlAVnuksAE",
        "colab_type": "text"
      },
      "source": [
        "### **Data Requirements**"
      ]
    },
    {
      "cell_type": "markdown",
      "metadata": {
        "id": "K4ZTGiG_kvrr",
        "colab_type": "text"
      },
      "source": [
        "We'll need the following location data for restaurants in Lafayette Lousiana:\n",
        "\n",
        "\n",
        "- Venue Name\n",
        "- Venue ID\n",
        "- Venue Location\n",
        "- Venue Category\n",
        "- Count of Likes\n",
        "\n",
        "\n"
      ]
    },
    {
      "cell_type": "code",
      "metadata": {
        "id": "BOrRoDVrlIMS",
        "colab_type": "code",
        "colab": {}
      },
      "source": [
        ""
      ],
      "execution_count": 0,
      "outputs": []
    }
  ]
}